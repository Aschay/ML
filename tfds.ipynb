{
 "cells": [
  {
   "cell_type": "code",
   "execution_count": null,
   "metadata": {},
   "outputs": [
    {
     "name": "stdout",
     "output_type": "stream",
     "text": [
      "<_PrefetchDataset element_spec={'image': TensorSpec(shape=(28, 28, 1), dtype=tf.uint8, name=None), 'label': TensorSpec(shape=(), dtype=tf.int64, name=None)}>\n"
     ]
    }
   ],
   "source": [
    "#0 import necassary libs to use , load ,manipulate and visualize datasets  \n",
    "import matplotlib.pyplot as plt\n",
    "import numpy as np\n",
    "import tensorflow as tf\n",
    "\n",
    "import tensorflow_datasets as tfds\n",
    "#find all the availables ds \n",
    "tfds.list_builders()\n",
    "#download ds and load it \n",
    "ds = tfds.load('mnist', split='train', shuffle_files=True)\n",
    "assert isinstance(ds, tf.data.Dataset)\n",
    "print(ds)\n"
   ]
  },
  {
   "cell_type": "code",
   "execution_count": 4,
   "metadata": {},
   "outputs": [
    {
     "name": "stdout",
     "output_type": "stream",
     "text": [
      "['image', 'label']\n",
      "(28, 28, 1) tf.Tensor(4, shape=(), dtype=int64)\n"
     ]
    }
   ],
   "source": [
    "#1 Iterate over a dataset As dict, by default, the tf.data.Dataset object contains a dict of tf.Tensors:\n",
    "ds1 = tfds.load('mnist', split='train')\n",
    "ds1 = ds1.take(1)  \n",
    "for example in ds1:  \n",
    "  # example is `{'image': tf.Tensor, 'label': tf.Tensor}`\n",
    "  print(list(example.keys()))\n",
    "  image = example[\"image\"]\n",
    "  label = example[\"label\"]\n",
    "  print(image.shape, label)"
   ]
  },
  {
   "cell_type": "code",
   "execution_count": 5,
   "metadata": {},
   "outputs": [
    {
     "name": "stdout",
     "output_type": "stream",
     "text": [
      "(28, 28, 1) tf.Tensor(4, shape=(), dtype=int64)\n"
     ]
    }
   ],
   "source": [
    "#2 Iterate over a dataset As tuple(feature,label) by setting as_supervised=true, by default, the tf.data.Dataset object contains a dict of tf.Tensors\n",
    "ds2 = tfds.load('mnist', split='train', as_supervised=True)\n",
    "ds2 = ds2.take(1)\n",
    "\n",
    "for image, label in ds2:  # example is (image, label)\n",
    "  print(image.shape, label)"
   ]
  },
  {
   "cell_type": "code",
   "execution_count": 6,
   "metadata": {},
   "outputs": [
    {
     "name": "stdout",
     "output_type": "stream",
     "text": [
      "<class 'numpy.ndarray'> <class 'numpy.int64'> 4\n"
     ]
    }
   ],
   "source": [
    "#3 convert dataset into arrays with numpy\n",
    "ds3 = tfds.load('mnist', split='train', as_supervised=True)\n",
    "ds3 = ds3.take(1)\n",
    "\n",
    "for image, label in tfds.as_numpy(ds3):\n",
    "  print(type(image), type(label), label)"
   ]
  },
  {
   "cell_type": "code",
   "execution_count": 7,
   "metadata": {},
   "outputs": [
    {
     "name": "stdout",
     "output_type": "stream",
     "text": [
      "WARNING:tensorflow:From C:\\Users\\user\\AppData\\Roaming\\Python\\Python39\\site-packages\\tensorflow_datasets\\core\\dataset_builder.py:863: The name tf.data.get_output_shapes is deprecated. Please use tf.compat.v1.data.get_output_shapes instead.\n",
      "\n"
     ]
    },
    {
     "name": "stderr",
     "output_type": "stream",
     "text": [
      "WARNING:tensorflow:From C:\\Users\\user\\AppData\\Roaming\\Python\\Python39\\site-packages\\tensorflow_datasets\\core\\dataset_builder.py:863: The name tf.data.get_output_shapes is deprecated. Please use tf.compat.v1.data.get_output_shapes instead.\n",
      "\n"
     ]
    },
    {
     "name": "stdout",
     "output_type": "stream",
     "text": [
      "<class 'numpy.ndarray'> (10000, 28, 28, 1)\n"
     ]
    }
   ],
   "source": [
    "#4 load the full dataset in one single batch with batch_size=-1\n",
    "\n",
    "image, label = tfds.as_numpy(tfds.load(\n",
    "    'mnist',\n",
    "    split='test',\n",
    "    batch_size=-1,\n",
    "    as_supervised=True,\n",
    "))\n",
    "\n",
    "print(type(image), image.shape)"
   ]
  },
  {
   "cell_type": "code",
   "execution_count": null,
   "metadata": {},
   "outputs": [
    {
     "data": {
      "text/html": [
       "<style type=\"text/css\">\n",
       "</style>\n",
       "<table id=\"T_7bb26\">\n",
       "  <thead>\n",
       "    <tr>\n",
       "      <th class=\"blank level0\" >&nbsp;</th>\n",
       "      <th id=\"T_7bb26_level0_col0\" class=\"col_heading level0 col0\" >image</th>\n",
       "      <th id=\"T_7bb26_level0_col1\" class=\"col_heading level0 col1\" >label</th>\n",
       "    </tr>\n",
       "  </thead>\n",
       "  <tbody>\n",
       "    <tr>\n",
       "      <th id=\"T_7bb26_level0_row0\" class=\"row_heading level0 row0\" >0</th>\n",
       "      <td id=\"T_7bb26_row0_col0\" class=\"data row0 col0\" ><img src=\"data:image/png;base64,iVBORw0KGgoAAAANSUhEUgAAABwAAAAcCAAAAABXZoBIAAAAvUlEQVR4nGNgGPQg5F8qjMmEIRn1XwinRvnvp2QxdTIygqk8tnuPMSUdz1uAKF2GC1jMs/xbzsDAIPPzgyQDps6XYDKQ9epzLJLCYFKK4QADFskAkIOkMxnnISQZYQz2J0KXjwvpqV00+YfpnsS/f//++/v3bxiSGAuMYfp97rN3b1cz7GDABUL+rUHmMqFIRv0/jVMjw9s/4FDCCow+bsOtcfe/n5k47fz//yqKg1DA408KuI19cxu3HBUBAPBxN9qoSaKgAAAAAElFTkSuQmCC\" alt=\"Img\" /></td>\n",
       "      <td id=\"T_7bb26_row0_col1\" class=\"data row0 col1\" >4</td>\n",
       "    </tr>\n",
       "    <tr>\n",
       "      <th id=\"T_7bb26_level0_row1\" class=\"row_heading level0 row1\" >1</th>\n",
       "      <td id=\"T_7bb26_row1_col0\" class=\"data row1 col0\" ><img src=\"data:image/png;base64,iVBORw0KGgoAAAANSUhEUgAAABwAAAAcCAAAAABXZoBIAAAAm0lEQVR4nGNgGOyAc/5KJlxyjIv+/TPEJan9798HWRiHCU0ylIHh0WNcOt//+xWFS07g37+nCB4TqmQTA8NlXBoZvv3754lH8h0LLmMNWBmm/sGlcdf/XxK45OS//LuG08Yp//4l4JS8/O8fTjn9n//W4ZQ88u+fAS45nqf/3rKhiCD5U02S4fgvXJK+DAyzcVop8vIFN05JagIAh7Ux2X28V5UAAAAASUVORK5CYII=\" alt=\"Img\" /></td>\n",
       "      <td id=\"T_7bb26_row1_col1\" class=\"data row1 col1\" >1</td>\n",
       "    </tr>\n",
       "    <tr>\n",
       "      <th id=\"T_7bb26_level0_row2\" class=\"row_heading level0 row2\" >2</th>\n",
       "      <td id=\"T_7bb26_row2_col0\" class=\"data row2 col0\" ><img src=\"data:image/png;base64,iVBORw0KGgoAAAANSUhEUgAAABwAAAAcCAAAAABXZoBIAAABAUlEQVR4nM3RP0uCURTH8SPEQ0RQTkU2CEFvoGaNIKrNXIsQdGmKyra2WnsFoZsOvYGQiPbAQQmiP1squYQpmEjfa9z70HDv87RGZ/pxP1zuOeeK/EktXqvi+G+YAS68cNvoAByG2sSdNt5D8UpBFbphlvtUPE9W6C8EbXeAeoxLGbIBiz1Ac0U0ll2brwP7YrDmYgWoTvl44B+N/dj6mkg/9SEikYj07HvTr9BN6+TdMNy0cQYomXQUmDPRga9tE29hsGxhHXgyaXWIu4QT4FSHnRfgWKxu33Qn2aVGMuGJujy338yZ34ARtPLuBubufVTts7hrItG9FlDYmg3SP6pvadaKxdoGz7IAAAAASUVORK5CYII=\" alt=\"Img\" /></td>\n",
       "      <td id=\"T_7bb26_row2_col1\" class=\"data row2 col1\" >0</td>\n",
       "    </tr>\n",
       "    <tr>\n",
       "      <th id=\"T_7bb26_level0_row3\" class=\"row_heading level0 row3\" >3</th>\n",
       "      <td id=\"T_7bb26_row3_col0\" class=\"data row3 col0\" ><img src=\"data:image/png;base64,iVBORw0KGgoAAAANSUhEUgAAABwAAAAcCAAAAABXZoBIAAAA4klEQVR4nGNgGJpg//8OdCEWKM2obvgv/++6/zcZnJQebPuNqkjvLxI4IIgiJ3/v79/3b//9/fvv7993f/9NQzE2TZ6hc8J3JzD7yi0GXmSNtl///pWAcVT//n3FgaTzJcevKe9hkpEMjDt/IEne1v78FG4MH8N/nP5t+v73gwMOuZY/f//2YJdijPn29+9uWMigAoWF//7+vSbDgA3obP379+8aBaxy0if//v2bhVWKgaHr39+PWazY5Zp//n2XjkOfwF14gGOCzL9/76C5kwnOesDI0PUEl0724+9UcMmRDACeumYGiZ2nDAAAAABJRU5ErkJggg==\" alt=\"Img\" /></td>\n",
       "      <td id=\"T_7bb26_row3_col1\" class=\"data row3 col1\" >7</td>\n",
       "    </tr>\n",
       "  </tbody>\n",
       "</table>\n"
      ],
      "text/plain": [
       "                                               image  label\n",
       "0  [[[0], [0], [0], [0], [0], [0], [0], [0], [0],...      4\n",
       "1  [[[0], [0], [0], [0], [0], [0], [0], [0], [0],...      1\n",
       "2  [[[0], [0], [0], [0], [0], [0], [0], [0], [0],...      0\n",
       "3  [[[0], [0], [0], [0], [0], [0], [0], [0], [0],...      7"
      ]
     },
     "execution_count": 8,
     "metadata": {},
     "output_type": "execute_result"
    }
   ],
   "source": [
    "# visualize the data with  as_dataframe\n",
    "ds4, info4 = tfds.load('mnist', split='train', with_info=True)\n",
    "\n",
    "tfds.as_dataframe(ds4.take(10), info4)"
   ]
  }
 ],
 "metadata": {
  "kernelspec": {
   "display_name": "Python 3",
   "language": "python",
   "name": "python3"
  },
  "language_info": {
   "codemirror_mode": {
    "name": "ipython",
    "version": 3
   },
   "file_extension": ".py",
   "mimetype": "text/x-python",
   "name": "python",
   "nbconvert_exporter": "python",
   "pygments_lexer": "ipython3",
   "version": "3.9.6"
  }
 },
 "nbformat": 4,
 "nbformat_minor": 2
}
